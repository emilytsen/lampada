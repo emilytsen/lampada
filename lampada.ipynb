{
  "cells": [
    {
      "cell_type": "markdown",
      "metadata": {
        "id": "view-in-github",
        "colab_type": "text"
      },
      "source": [
        "<a href=\"https://colab.research.google.com/github/emilytsen/lampada/blob/main/lampada.ipynb\" target=\"_parent\"><img src=\"https://colab.research.google.com/assets/colab-badge.svg\" alt=\"Open In Colab\"/></a>"
      ]
    },
    {
      "cell_type": "markdown",
      "metadata": {
        "id": "PYJpxJ2AFDKS"
      },
      "source": [
        "\n",
        "# internet das coisas 03/11/21\n",
        "*   comunicação com protocolo mgtt\n",
        "*   verção 1.0 \n",
        "\n",
        "\n"
      ]
    },
    {
      "cell_type": "code",
      "execution_count": null,
      "metadata": {
        "colab": {
          "base_uri": "https://localhost:8080/"
        },
        "id": "uQnCXq0nEkQ2",
        "outputId": "59837d98-a0dc-432a-c940-28a0322c7170"
      },
      "outputs": [
        {
          "name": "stdout",
          "output_type": "stream",
          "text": [
            "Requirement already satisfied: paho.mqtt in /usr/local/lib/python3.7/dist-packages (1.6.1)\n"
          ]
        }
      ],
      "source": [
        "! pip install paho.mqtt"
      ]
    },
    {
      "cell_type": "code",
      "execution_count": null,
      "metadata": {
        "id": "9XeNxYHbGuCc"
      },
      "outputs": [],
      "source": [
        "# importar as bibliotecas\n",
        "import paho.mqtt.client as mqtt\n",
        "import sys"
      ]
    },
    {
      "cell_type": "code",
      "execution_count": null,
      "metadata": {
        "id": "38GWRUltHs9o"
      },
      "outputs": [],
      "source": [
        "#configuração do MQTT\n",
        "Broker = \"test.mosquitto.org\"\n",
        "PortaBroker = 1883\n",
        "KeepAliveBroker = 60 \n",
        "TopicoSubscribe = \"emily03112021\""
      ]
    },
    {
      "cell_type": "code",
      "execution_count": null,
      "metadata": {
        "id": "lmBOcbLzXHci"
      },
      "outputs": [],
      "source": [
        "#Funcionalidade do mqtt\n",
        "def funcaoMqtt(codigo):\n",
        "  if codigo == \"b'1'\":\n",
        "    print(\"ligar\")\n",
        "  elif codigo == \"b'0'\":\n",
        "    print(\"desligar\")\n",
        "    "
      ]
    },
    {
      "cell_type": "code",
      "execution_count": null,
      "metadata": {
        "id": "lMjexo2xLgiP"
      },
      "outputs": [],
      "source": [
        "# função para conexão com o broker \n",
        "def on_connect(client, userdata, flags, rc):\n",
        "  print('[STATUS] Conectando ao Broker. Resultado: ' + str(rc))\n",
        "  #inscrever no topico configurado\n",
        "  client.subscribe(TopicoSubscribe)"
      ]
    },
    {
      "cell_type": "code",
      "execution_count": null,
      "metadata": {
        "id": "rwXmEzIHPojC"
      },
      "outputs": [],
      "source": [
        "# função para recebimento de mensagem \n",
        "def on_message(client, userdata, msg):\n",
        "  MensagemRecebida = str(msg.payload)\n",
        "  #print(\"[MENSAGEM RECEBIDA] Topico: \" + msg.topic + \" / Mensagem: \" + MensagemRecebida)\n",
        "  funcaoMqtt (mensagemRecebida)"
      ]
    },
    {
      "cell_type": "code",
      "execution_count": null,
      "metadata": {
        "colab": {
          "background_save": true,
          "base_uri": "https://localhost:8080/"
        },
        "id": "b2oH3lStRUso",
        "outputId": "31dcb23a-7925-4b52-cd2a-99534b5e45c5"
      },
      "outputs": [
        {
          "name": "stdout",
          "output_type": "stream",
          "text": [
            "[STATUS] Iniciando o MQTT...\n",
            "[STATUS] Conectando ao Broker. Resultado: 0\n",
            "[MENSAGEM RECEBIDA] Topico: emily03112021 / Mensagem: b'1'\n",
            "[MENSAGEM RECEBIDA] Topico: emily03112021 / Mensagem: b'0'\n",
            "[MENSAGEM RECEBIDA] Topico: emily03112021 / Mensagem: b'1'\n",
            "[MENSAGEM RECEBIDA] Topico: emily03112021 / Mensagem: b'0'\n"
          ]
        }
      ],
      "source": [
        "# programa principal\n",
        "try:\n",
        "  print(\"[STATUS] Iniciando o MQTT...\")\n",
        "  client = mqtt.Client()\n",
        "  client.on_connect = on_connect\n",
        "  client.on_message = on_message\n",
        "\n",
        "  #conexão propriamente dita\n",
        "  client.connect(Broker, PortaBroker, KeepAliveBroker)\n",
        "  client.loop_forever()\n",
        "except KeyboardInterrupt:\n",
        "  print(\"Ctrl+C pressionado, encerrando a aplicação\")\n",
        "  sys.exit(0)"
      ]
    }
  ],
  "metadata": {
    "colab": {
      "provenance": [],
      "authorship_tag": "ABX9TyMhRhcNBiJoGM5jTKgBJUcr",
      "include_colab_link": true
    },
    "kernelspec": {
      "display_name": "Python 3",
      "name": "python3"
    },
    "language_info": {
      "name": "python"
    }
  },
  "nbformat": 4,
  "nbformat_minor": 0
}